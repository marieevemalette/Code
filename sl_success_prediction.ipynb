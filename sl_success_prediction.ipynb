{
 "cells": [
  {
   "cell_type": "code",
   "execution_count": 240,
   "metadata": {},
   "outputs": [],
   "source": [
    "import os\n",
    "import pandas as pd\n",
    "import numpy as np"
   ]
  },
  {
   "cell_type": "code",
   "execution_count": 241,
   "metadata": {},
   "outputs": [],
   "source": [
    "df_u = pd.read_csv('tmp/df_users_contacts_final.csv', index_col=0)\n",
    "df_vl = pd.read_csv('tmp/df_view_logs_uam_final.csv', index_col=0) "
   ]
  },
  {
   "cell_type": "code",
   "execution_count": 242,
   "metadata": {},
   "outputs": [],
   "source": [
    "# merge and remove nan sl_success\n",
    "df_vl_u = pd.merge(df_vl, df_u, right_on='user_id', left_on='user_id_aug', how='left')\n",
    "df_vl_u = df_vl_u.loc[~df_vl_u['sl_success'].isnull()]\n",
    "\n",
    "# add pre activation flag \n",
    "df_vl_u['pre_activation'] = df_vl_u['vl_created_at'] < df_vl_u['user_activated_at']\n",
    "\n",
    "# keep only preactivation \n",
    "df_vl_pre = df_vl_u.loc[df_vl_u['pre_activation']]\n",
    "\n",
    "# keep only commercial for now\n",
    "df_vl_comm = df_vl_pre.loc[df_vl_pre['commercial'] == 1]"
   ]
  },
  {
   "cell_type": "code",
   "execution_count": 243,
   "metadata": {},
   "outputs": [],
   "source": [
    "df_sls = df_vl_comm.loc[df_vl_comm['sl_success'] == 1]\n",
    "df_no_sls = df_vl_comm.loc[df_vl_comm['sl_success'] == 0]"
   ]
  },
  {
   "cell_type": "code",
   "execution_count": 244,
   "metadata": {},
   "outputs": [
    {
     "data": {
      "text/html": [
       "<div>\n",
       "<style scoped>\n",
       "    .dataframe tbody tr th:only-of-type {\n",
       "        vertical-align: middle;\n",
       "    }\n",
       "\n",
       "    .dataframe tbody tr th {\n",
       "        vertical-align: top;\n",
       "    }\n",
       "\n",
       "    .dataframe thead th {\n",
       "        text-align: right;\n",
       "    }\n",
       "</style>\n",
       "<table border=\"1\" class=\"dataframe\">\n",
       "  <thead>\n",
       "    <tr style=\"text-align: right;\">\n",
       "      <th></th>\n",
       "      <th>vl_created_at</th>\n",
       "      <th>user_id_aug</th>\n",
       "      <th>url</th>\n",
       "      <th>user_id</th>\n",
       "      <th>user_activated_at</th>\n",
       "      <th>commercial</th>\n",
       "      <th>sl_success</th>\n",
       "      <th>pre_activation</th>\n",
       "    </tr>\n",
       "  </thead>\n",
       "  <tbody>\n",
       "    <tr>\n",
       "      <th>101</th>\n",
       "      <td>2022-01-01 16:56:20.989838</td>\n",
       "      <td>170667</td>\n",
       "      <td>signup</td>\n",
       "      <td>170667.0</td>\n",
       "      <td>2022-01-01 17:10:38</td>\n",
       "      <td>1.0</td>\n",
       "      <td>1.0</td>\n",
       "      <td>True</td>\n",
       "    </tr>\n",
       "    <tr>\n",
       "      <th>102</th>\n",
       "      <td>2022-01-01 16:56:55.627038</td>\n",
       "      <td>170667</td>\n",
       "      <td>lab-automation</td>\n",
       "      <td>170667.0</td>\n",
       "      <td>2022-01-01 17:10:38</td>\n",
       "      <td>1.0</td>\n",
       "      <td>1.0</td>\n",
       "      <td>True</td>\n",
       "    </tr>\n",
       "    <tr>\n",
       "      <th>103</th>\n",
       "      <td>2022-01-01 16:59:23.497364</td>\n",
       "      <td>170667</td>\n",
       "      <td>parts-library</td>\n",
       "      <td>170667.0</td>\n",
       "      <td>2022-01-01 17:10:38</td>\n",
       "      <td>1.0</td>\n",
       "      <td>1.0</td>\n",
       "      <td>True</td>\n",
       "    </tr>\n",
       "    <tr>\n",
       "      <th>104</th>\n",
       "      <td>2022-01-01 17:02:11.510151</td>\n",
       "      <td>170667</td>\n",
       "      <td>parts-library</td>\n",
       "      <td>170667.0</td>\n",
       "      <td>2022-01-01 17:10:38</td>\n",
       "      <td>1.0</td>\n",
       "      <td>1.0</td>\n",
       "      <td>True</td>\n",
       "    </tr>\n",
       "    <tr>\n",
       "      <th>105</th>\n",
       "      <td>2022-01-01 17:02:37.019057</td>\n",
       "      <td>170667</td>\n",
       "      <td>parts</td>\n",
       "      <td>170667.0</td>\n",
       "      <td>2022-01-01 17:10:38</td>\n",
       "      <td>1.0</td>\n",
       "      <td>1.0</td>\n",
       "      <td>True</td>\n",
       "    </tr>\n",
       "  </tbody>\n",
       "</table>\n",
       "</div>"
      ],
      "text/plain": [
       "                  vl_created_at  user_id_aug             url   user_id  \\\n",
       "101  2022-01-01 16:56:20.989838       170667          signup  170667.0   \n",
       "102  2022-01-01 16:56:55.627038       170667  lab-automation  170667.0   \n",
       "103  2022-01-01 16:59:23.497364       170667   parts-library  170667.0   \n",
       "104  2022-01-01 17:02:11.510151       170667   parts-library  170667.0   \n",
       "105  2022-01-01 17:02:37.019057       170667           parts  170667.0   \n",
       "\n",
       "       user_activated_at  commercial  sl_success  pre_activation  \n",
       "101  2022-01-01 17:10:38         1.0         1.0            True  \n",
       "102  2022-01-01 17:10:38         1.0         1.0            True  \n",
       "103  2022-01-01 17:10:38         1.0         1.0            True  \n",
       "104  2022-01-01 17:10:38         1.0         1.0            True  \n",
       "105  2022-01-01 17:10:38         1.0         1.0            True  "
      ]
     },
     "execution_count": 244,
     "metadata": {},
     "output_type": "execute_result"
    }
   ],
   "source": [
    "df_sls.head()"
   ]
  },
  {
   "cell_type": "code",
   "execution_count": 245,
   "metadata": {},
   "outputs": [
    {
     "name": "stdout",
     "output_type": "stream",
     "text": [
      "10066\n",
      "12267\n"
     ]
    }
   ],
   "source": [
    "print(len(df_sls['user_id_aug'].unique()))\n",
    "print(len(df_no_sls['user_id_aug'].unique()))"
   ]
  },
  {
   "cell_type": "code",
   "execution_count": 246,
   "metadata": {},
   "outputs": [],
   "source": [
    "df_sls = df_sls.sort_values(['user_id_aug', 'vl_created_at'])\n",
    "df_no_sls = df_no_sls.sort_values(['user_id_aug', 'vl_created_at'])\n",
    "\n",
    "df_uj_sls = df_sls.groupby('user_id_aug')['url'].apply(lambda x: ' '.join(x)).reset_index()\n",
    "df_uj_no_sls = df_no_sls.groupby('user_id_aug')['url'].apply(lambda x: ' '.join(x)).reset_index()"
   ]
  },
  {
   "cell_type": "code",
   "execution_count": 247,
   "metadata": {},
   "outputs": [],
   "source": [
    "journey_corpus_sls = list(df_uj_sls['url'])\n",
    "journey_corpus_no_sls = list(df_uj_no_sls['url'])"
   ]
  },
  {
   "cell_type": "code",
   "execution_count": 248,
   "metadata": {},
   "outputs": [],
   "source": [
    "dataset = pd.DataFrame({'X': journey_corpus_sls + journey_corpus_no_sls, 'y': [1]*len(journey_corpus_sls) + [0]*len(journey_corpus_no_sls)})\n",
    "dataset_no_sls = dataset.loc[dataset['y'] == 0].sample(len(journey_corpus_sls))\n",
    "dataset_sls = dataset.loc[dataset['y'] == 1]\n",
    "dataset_balanced = pd.concat([dataset_no_sls, dataset_sls], axis=0)\n",
    "dataset_balanced.reset_index(drop=True, inplace=True)"
   ]
  },
  {
   "cell_type": "code",
   "execution_count": 249,
   "metadata": {},
   "outputs": [
    {
     "data": {
      "text/html": [
       "<div>\n",
       "<style scoped>\n",
       "    .dataframe tbody tr th:only-of-type {\n",
       "        vertical-align: middle;\n",
       "    }\n",
       "\n",
       "    .dataframe tbody tr th {\n",
       "        vertical-align: top;\n",
       "    }\n",
       "\n",
       "    .dataframe thead th {\n",
       "        text-align: right;\n",
       "    }\n",
       "</style>\n",
       "<table border=\"1\" class=\"dataframe\">\n",
       "  <thead>\n",
       "    <tr style=\"text-align: right;\">\n",
       "      <th></th>\n",
       "      <th>X</th>\n",
       "      <th>y</th>\n",
       "      <th>X2</th>\n",
       "    </tr>\n",
       "  </thead>\n",
       "  <tbody>\n",
       "    <tr>\n",
       "      <th>0</th>\n",
       "      <td>users dashboard users users users users users ...</td>\n",
       "      <td>0</td>\n",
       "      <td>11</td>\n",
       "    </tr>\n",
       "    <tr>\n",
       "      <th>1</th>\n",
       "      <td>probable-source-google-campaign signup users</td>\n",
       "      <td>0</td>\n",
       "      <td>3</td>\n",
       "    </tr>\n",
       "    <tr>\n",
       "      <th>2</th>\n",
       "      <td>probable-source-google-campaign signup users</td>\n",
       "      <td>0</td>\n",
       "      <td>3</td>\n",
       "    </tr>\n",
       "    <tr>\n",
       "      <th>3</th>\n",
       "      <td>probable-source-google-campaign probable-sourc...</td>\n",
       "      <td>0</td>\n",
       "      <td>4</td>\n",
       "    </tr>\n",
       "    <tr>\n",
       "      <th>4</th>\n",
       "      <td>robot-home signup robot-home users signup users</td>\n",
       "      <td>0</td>\n",
       "      <td>6</td>\n",
       "    </tr>\n",
       "    <tr>\n",
       "      <th>...</th>\n",
       "      <td>...</td>\n",
       "      <td>...</td>\n",
       "      <td>...</td>\n",
       "    </tr>\n",
       "    <tr>\n",
       "      <th>20127</th>\n",
       "      <td>probable-source-google-campaign signup verify-...</td>\n",
       "      <td>1</td>\n",
       "      <td>4</td>\n",
       "    </tr>\n",
       "    <tr>\n",
       "      <th>20128</th>\n",
       "      <td>3d-design signup verify-email users</td>\n",
       "      <td>1</td>\n",
       "      <td>4</td>\n",
       "    </tr>\n",
       "    <tr>\n",
       "      <th>20129</th>\n",
       "      <td>3d-design 3d-design vention.io signup verify-e...</td>\n",
       "      <td>1</td>\n",
       "      <td>6</td>\n",
       "    </tr>\n",
       "    <tr>\n",
       "      <th>20130</th>\n",
       "      <td>vention.io customer-stories 3d-design vention....</td>\n",
       "      <td>1</td>\n",
       "      <td>7</td>\n",
       "    </tr>\n",
       "    <tr>\n",
       "      <th>20131</th>\n",
       "      <td>parts signup verify-email users</td>\n",
       "      <td>1</td>\n",
       "      <td>4</td>\n",
       "    </tr>\n",
       "  </tbody>\n",
       "</table>\n",
       "<p>20132 rows × 3 columns</p>\n",
       "</div>"
      ],
      "text/plain": [
       "                                                       X  y  X2\n",
       "0      users dashboard users users users users users ...  0  11\n",
       "1           probable-source-google-campaign signup users  0   3\n",
       "2           probable-source-google-campaign signup users  0   3\n",
       "3      probable-source-google-campaign probable-sourc...  0   4\n",
       "4        robot-home signup robot-home users signup users  0   6\n",
       "...                                                  ... ..  ..\n",
       "20127  probable-source-google-campaign signup verify-...  1   4\n",
       "20128                3d-design signup verify-email users  1   4\n",
       "20129  3d-design 3d-design vention.io signup verify-e...  1   6\n",
       "20130  vention.io customer-stories 3d-design vention....  1   7\n",
       "20131                    parts signup verify-email users  1   4\n",
       "\n",
       "[20132 rows x 3 columns]"
      ]
     },
     "execution_count": 249,
     "metadata": {},
     "output_type": "execute_result"
    }
   ],
   "source": [
    "X2 = dataset_balanced['X'].apply(lambda x: len(x.split(' ')))\n",
    "dataset_balanced['X2'] = X2\n",
    "dataset_balanced"
   ]
  },
  {
   "cell_type": "code",
   "execution_count": 250,
   "metadata": {},
   "outputs": [
    {
     "name": "stdout",
     "output_type": "stream",
     "text": [
      "\n",
      " Accuracy:  0.575\n",
      "\n",
      "Classification Report\n",
      "======================================================\n",
      "\n",
      "               precision    recall  f1-score   support\n",
      "\n",
      "           0       0.57      0.66      0.61      3035\n",
      "           1       0.59      0.49      0.54      3005\n",
      "\n",
      "    accuracy                           0.57      6040\n",
      "   macro avg       0.58      0.57      0.57      6040\n",
      "weighted avg       0.58      0.57      0.57      6040\n",
      "\n"
     ]
    }
   ],
   "source": [
    "# Training the classifier, predicting on test data & evaluating performance with classification metrics\n",
    "\n",
    "# Spliting into X & y\n",
    "# X = dataset_balanced.iloc[:, 2].values.reshape((dataset_balanced.shape[0], 1))\n",
    "X = dataset_balanced.iloc[:, 0].values\n",
    "y = dataset_balanced.iloc[:, 1].values\n",
    "\n",
    "# Building a TF IDF matrix out of the corpus of reviews\n",
    "from sklearn.feature_extraction.text import TfidfVectorizer\n",
    "td = TfidfVectorizer(max_features = 4500)\n",
    "X = td.fit_transform(X).toarray()\n",
    "\n",
    "# Splitting into training & test subsets\n",
    "from sklearn.model_selection import train_test_split\n",
    "X_train, X_test, y_train, y_test = train_test_split(X, y, test_size = 0.3,\n",
    "                                                    random_state = 0)\n",
    "\n",
    "# Training the classifier & predicting on test data\n",
    "from xgboost import XGBClassifier\n",
    "classifier = XGBClassifier()\n",
    "classifier.fit(X_train, y_train)\n",
    "\n",
    "y_pred = classifier.predict(X_test)\n",
    "y_proba = classifier.predict_proba(X_test)\n",
    "\n",
    "# Classification metrics\n",
    "from sklearn.metrics import accuracy_score, classification_report\n",
    "classification_report = classification_report(y_test, y_pred)\n",
    "\n",
    "print('\\n Accuracy: ', accuracy_score(y_test, y_pred))\n",
    "print('\\nClassification Report')\n",
    "print('======================================================')\n",
    "print('\\n', classification_report)"
   ]
  },
  {
   "cell_type": "code",
   "execution_count": 251,
   "metadata": {},
   "outputs": [
    {
     "data": {
      "text/plain": [
       "array([[1988, 1047],\n",
       "       [1520, 1485]], dtype=int64)"
      ]
     },
     "execution_count": 251,
     "metadata": {},
     "output_type": "execute_result"
    }
   ],
   "source": [
    "from sklearn.metrics import confusion_matrix\n",
    "confusion_matrix(y_test, y_pred)"
   ]
  },
  {
   "cell_type": "code",
   "execution_count": 252,
   "metadata": {},
   "outputs": [
    {
     "name": "stdout",
     "output_type": "stream",
     "text": [
      "\n",
      " Accuracy:  0.6475619039090136\n",
      "\n",
      "Classification Report\n",
      "======================================================\n",
      "\n",
      "               precision    recall  f1-score   support\n",
      "\n",
      "           0       0.66      0.72      0.69     12267\n",
      "           1       0.62      0.56      0.59     10066\n",
      "\n",
      "    accuracy                           0.65     22333\n",
      "   macro avg       0.64      0.64      0.64     22333\n",
      "weighted avg       0.65      0.65      0.64     22333\n",
      "\n"
     ]
    }
   ],
   "source": [
    "# Training the classifier, predicting on test data & evaluating performance with classification metrics\n",
    "\n",
    "# Spliting into X & y\n",
    "# X = dataset_balanced.iloc[:, 2].values.reshape((dataset_balanced.shape[0], 1))\n",
    "X = dataset.iloc[:, 0].values\n",
    "y = dataset.iloc[:, 1].values\n",
    "\n",
    "# Building a TF IDF matrix out of the corpus of reviews\n",
    "from sklearn.feature_extraction.text import TfidfVectorizer\n",
    "# td = TfidfVectorizer(max_features = 4500)\n",
    "X = td.transform(X).toarray()\n",
    "\n",
    "y_pred = classifier.predict(X)\n",
    "y_proba = classifier.predict_proba(X)\n",
    "\n",
    "# Classification metrics\n",
    "from sklearn.metrics import accuracy_score, classification_report\n",
    "classification_report = classification_report(y, y_pred)\n",
    "\n",
    "print('\\n Accuracy: ', accuracy_score(y, y_pred))\n",
    "print('\\nClassification Report')\n",
    "print('======================================================')\n",
    "print('\\n', classification_report)"
   ]
  },
  {
   "cell_type": "code",
   "execution_count": 253,
   "metadata": {},
   "outputs": [],
   "source": [
    "sls_proba = pd.DataFrame({'sls': y, 'sls_prob': y_proba[:,1].tolist()})\n",
    "sls_proba = sls_proba.sort_values('sls_prob').reset_index(drop=True)\n",
    "sls_proba_1 = sls_proba.loc[sls_proba['sls'] == 1]\n",
    "sls_proba_0 = sls_proba.loc[sls_proba['sls'] == 0]"
   ]
  },
  {
   "cell_type": "code",
   "execution_count": 254,
   "metadata": {},
   "outputs": [
    {
     "name": "stderr",
     "output_type": "stream",
     "text": [
      "No artists with labels found to put in legend.  Note that artists whose label start with an underscore are ignored when legend() is called with no argument.\n"
     ]
    },
    {
     "data": {
      "image/png": "[encoded data removed]",
      "text/plain": [
       "<Figure size 640x480 with 1 Axes>"
      ]
     },
     "metadata": {},
     "output_type": "display_data"
    }
   ],
   "source": [
    "import matplotlib.pyplot as plt\n",
    "plt.scatter(list(range(0, sls_proba_1.shape[0])), sls_proba_1['sls_prob'], c=\"red\")\n",
    "plt.scatter(list(range(0, sls_proba_0.shape[0])), sls_proba_0['sls_prob'], c=\"blue\")\n",
    "plt.legend()\n",
    "plt.show()"
   ]
  },
  {
   "cell_type": "code",
   "execution_count": 255,
   "metadata": {},
   "outputs": [
    {
     "data": {
      "text/plain": [
       "0.45178274424514164"
      ]
     },
     "execution_count": 255,
     "metadata": {},
     "output_type": "execute_result"
    }
   ],
   "source": [
    "sls_proba_1['sls_prob'].mean()\n",
    "sls_proba_0['sls_prob'].mean()"
   ]
  },
  {
   "cell_type": "code",
   "execution_count": 256,
   "metadata": {},
   "outputs": [
    {
     "data": {
      "text/html": [
       "<div>\n",
       "<style scoped>\n",
       "    .dataframe tbody tr th:only-of-type {\n",
       "        vertical-align: middle;\n",
       "    }\n",
       "\n",
       "    .dataframe tbody tr th {\n",
       "        vertical-align: top;\n",
       "    }\n",
       "\n",
       "    .dataframe thead th {\n",
       "        text-align: right;\n",
       "    }\n",
       "</style>\n",
       "<table border=\"1\" class=\"dataframe\">\n",
       "  <thead>\n",
       "    <tr style=\"text-align: right;\">\n",
       "      <th></th>\n",
       "      <th>sls</th>\n",
       "      <th>sls_prob</th>\n",
       "    </tr>\n",
       "  </thead>\n",
       "  <tbody>\n",
       "    <tr>\n",
       "      <th>0</th>\n",
       "      <td>0</td>\n",
       "      <td>0.032998</td>\n",
       "    </tr>\n",
       "    <tr>\n",
       "      <th>1</th>\n",
       "      <td>0</td>\n",
       "      <td>0.046767</td>\n",
       "    </tr>\n",
       "    <tr>\n",
       "      <th>2</th>\n",
       "      <td>0</td>\n",
       "      <td>0.064834</td>\n",
       "    </tr>\n",
       "    <tr>\n",
       "      <th>3</th>\n",
       "      <td>0</td>\n",
       "      <td>0.080310</td>\n",
       "    </tr>\n",
       "    <tr>\n",
       "      <th>4</th>\n",
       "      <td>0</td>\n",
       "      <td>0.089400</td>\n",
       "    </tr>\n",
       "    <tr>\n",
       "      <th>...</th>\n",
       "      <td>...</td>\n",
       "      <td>...</td>\n",
       "    </tr>\n",
       "    <tr>\n",
       "      <th>22328</th>\n",
       "      <td>1</td>\n",
       "      <td>0.969618</td>\n",
       "    </tr>\n",
       "    <tr>\n",
       "      <th>22329</th>\n",
       "      <td>1</td>\n",
       "      <td>0.970756</td>\n",
       "    </tr>\n",
       "    <tr>\n",
       "      <th>22330</th>\n",
       "      <td>1</td>\n",
       "      <td>0.973791</td>\n",
       "    </tr>\n",
       "    <tr>\n",
       "      <th>22331</th>\n",
       "      <td>1</td>\n",
       "      <td>0.975158</td>\n",
       "    </tr>\n",
       "    <tr>\n",
       "      <th>22332</th>\n",
       "      <td>1</td>\n",
       "      <td>0.976111</td>\n",
       "    </tr>\n",
       "  </tbody>\n",
       "</table>\n",
       "<p>22333 rows × 2 columns</p>\n",
       "</div>"
      ],
      "text/plain": [
       "       sls  sls_prob\n",
       "0        0  0.032998\n",
       "1        0  0.046767\n",
       "2        0  0.064834\n",
       "3        0  0.080310\n",
       "4        0  0.089400\n",
       "...    ...       ...\n",
       "22328    1  0.969618\n",
       "22329    1  0.970756\n",
       "22330    1  0.973791\n",
       "22331    1  0.975158\n",
       "22332    1  0.976111\n",
       "\n",
       "[22333 rows x 2 columns]"
      ]
     },
     "execution_count": 256,
     "metadata": {},
     "output_type": "execute_result"
    }
   ],
   "source": [
    "sls_proba"
   ]
  },
  {
   "cell_type": "code",
   "execution_count": 257,
   "metadata": {},
   "outputs": [
    {
     "name": "stdout",
     "output_type": "stream",
     "text": [
      "sl success excluded nan\n",
      "sl success routed 0.45072314512156897\n",
      "% volume 1.0\n",
      "==============================================================\n",
      "\n",
      "sl success excluded 0.0\n",
      "sl success routed 0.4509654585368039\n",
      "% volume 0.999462678547441\n",
      "==============================================================\n",
      "\n",
      "sl success excluded 0.015625\n",
      "sl success routed 0.45197359558130135\n",
      "% volume 0.9971342855863521\n",
      "==============================================================\n",
      "\n",
      "sl success excluded 0.055\n",
      "sl success routed 0.45429901052726696\n",
      "% volume 0.9910446424573501\n",
      "==============================================================\n",
      "\n",
      "sl success excluded 0.13053097345132744\n",
      "sl success routed 0.46423071538569227\n",
      "% volume 0.9595217839072225\n",
      "==============================================================\n",
      "\n",
      "sl success excluded 0.14087947882736157\n",
      "sl success routed 0.4687514806917792\n",
      "% volume 0.9450141046881296\n",
      "==============================================================\n",
      "\n",
      "sl success excluded 0.14727374929735806\n",
      "sl success routed 0.4769874476987448\n",
      "% volume 0.9203420946581292\n",
      "==============================================================\n",
      "\n",
      "sl success excluded 0.27773155851358844\n",
      "sl success routed 0.5332319291052179\n",
      "% volume 0.677069807012045\n",
      "==============================================================\n",
      "\n",
      "sl success excluded 0.28877482704753404\n",
      "sl success routed 0.5592700620746391\n",
      "% volume 0.5987104285138584\n",
      "==============================================================\n",
      "\n",
      "sl success excluded 0.33533113575067425\n",
      "sl success routed 0.6221480244852532\n",
      "% volume 0.4023194376035463\n",
      "==============================================================\n",
      "\n",
      "sl success excluded 0.3472565661966183\n",
      "sl success routed 0.66078697421981\n",
      "% volume 0.33000492544664844\n",
      "==============================================================\n",
      "\n",
      "sl success excluded 0.3757346292947559\n",
      "sl success routed 0.7368988570196248\n",
      "% volume 0.2076299646263377\n",
      "==============================================================\n",
      "\n",
      "sl success excluded 0.39113903997465277\n",
      "sl success routed 0.782979976442874\n",
      "% volume 0.15206197107419514\n",
      "==============================================================\n",
      "\n",
      "sl success excluded 0.40515375710906437\n",
      "sl success routed 0.8181818181818182\n",
      "% volume 0.11033000492544665\n",
      "==============================================================\n",
      "\n",
      "sl success excluded 0.41989963327542945\n",
      "sl success routed 0.8477315102548166\n",
      "% volume 0.07204585143061837\n",
      "==============================================================\n",
      "\n",
      "sl success excluded 0.4316405335829628\n",
      "sl success routed 0.871900826446281\n",
      "% volume 0.04334393050642547\n",
      "==============================================================\n",
      "\n",
      "sl success excluded 0.44150615363499107\n",
      "sl success routed 0.8739495798319328\n",
      "% volume 0.021313750951506737\n",
      "==============================================================\n",
      "\n",
      "sl success excluded 0.4475571795912843\n",
      "sl success routed 0.8734939759036144\n",
      "% volume 0.0074329467603994085\n",
      "==============================================================\n",
      "\n"
     ]
    }
   ],
   "source": [
    "for t in [0, 0.1, 0.15, 0.2, 0.25, 0.3, 0.35, 0.4, 0.45, 0.5, 0.55, 0.6, 0.65, 0.7, 0.75, 0.8, 0.85, 0.9]:\n",
    "    print(\"sl success excluded\", sls_proba.loc[sls_proba['sls_prob']<t, 'sls'].mean())\n",
    "    print(\"sl success routed\", sls_proba.loc[sls_proba['sls_prob']>=t, 'sls'].mean())\n",
    "    print(\"% volume\", sls_proba.loc[sls_proba['sls_prob']>=t, 'sls'].count()/sls_proba.shape[0])\n",
    "    print(\"==============================================================\\n\")"
   ]
  }
 ],
 "metadata": {
  "kernelspec": {
   "display_name": "base",
   "language": "python",
   "name": "python3"
  },
  "language_info": {
   "codemirror_mode": {
    "name": "ipython",
    "version": 3
   },
   "file_extension": ".py",
   "mimetype": "text/x-python",
   "name": "python",
   "nbconvert_exporter": "python",
   "pygments_lexer": "ipython3",
   "version": "3.9.13"
  },
  "orig_nbformat": 4
 },
 "nbformat": 4,
 "nbformat_minor": 2
}
