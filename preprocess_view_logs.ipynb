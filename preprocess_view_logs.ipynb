{
 "cells": [
  {
   "cell_type": "code",
   "execution_count": 1,
   "metadata": {},
   "outputs": [],
   "source": [
    "import os\n",
    "import pandas as pd\n",
    "import numpy as np"
   ]
  },
  {
   "cell_type": "code",
   "execution_count": 2,
   "metadata": {},
   "outputs": [
    {
     "name": "stderr",
     "output_type": "stream",
     "text": [
      "C:\\Users\\marie-eve.malette_ve\\AppData\\Local\\Temp\\ipykernel_18824\\2020465127.py:4: DtypeWarning: Columns (1,5) have mixed types. Specify dtype option on import or set low_memory=False.\n",
      "  df_vl = pd.read_csv(vl_path)\n"
     ]
    }
   ],
   "source": [
    "vl_path = os.path.join(\"..\", \"data\", \"transformed\",\"vention_transformed_vl_since_2022.csv\")\n",
    "uam_path = os.path.join(\"..\", \"data\", \"transformed\",\"vention_transformed_uam_ga_client_ids.csv\")\n",
    "\n",
    "df_vl = pd.read_csv(vl_path) \n",
    "df_uam = pd.read_csv(uam_path) "
   ]
  },
  {
   "cell_type": "code",
   "execution_count": 3,
   "metadata": {},
   "outputs": [],
   "source": [
    "# format dates in vl \n",
    "df_vl = df_vl[['user_id', 'created_at', 'ga_client_id', 'view_data']]\n",
    "df_vl['created_at'] = pd.to_datetime(df_vl['created_at'], format='%Y-%m-%d %H:%M:%S')\n",
    "\n",
    "# format and cleanup\n",
    "df_vl = df_vl[~df_vl['user_id'].astype(str).str.match(r'\\d{4}-\\d{2}-\\d{2}\\s\\d{2}:\\d{2}:\\d{2}$')]\n",
    "df_vl['user_id'] = [str(i) if str(i) == 'nan' else str(int(i)) for i in df_vl['user_id']]\n",
    "df_vl['ga_client_id'] = df_vl['ga_client_id'].astype(str)\n",
    "\n",
    "# remove from view_ogs rows where both ga and user ids are nan\n",
    "df_vl = df_vl.loc[(df_vl['ga_client_id'] != 'nan')]"
   ]
  },
  {
   "cell_type": "code",
   "execution_count": 4,
   "metadata": {},
   "outputs": [],
   "source": [
    "# fromat and cleanup UAM\n",
    "df_uam['user_id'] = df_uam['user_id'].astype(str) \n",
    "df_uam = df_uam[['user_id','ga_client_id']]"
   ]
  },
  {
   "cell_type": "code",
   "execution_count": 5,
   "metadata": {},
   "outputs": [],
   "source": [
    "# retrieve missing user_id in vl\n",
    "df_vl_uam = pd.merge(df_vl, df_uam, left_on=\"ga_client_id\", right_on=\"ga_client_id\", how='left')\n",
    "\n",
    "# remove still null user_id\n",
    "df_vl_uam = df_vl_uam.loc[~df_vl_uam['user_id_y'].isnull()]\n",
    "\n",
    "# drop unecessary columns, rename columns and reset indices\n",
    "df_vl_uam.drop(['user_id_x', 'ga_client_id'], axis=1, inplace=True)\n",
    "df_vl_uam.rename(columns={'user_id_y': 'user_id_aug'}, inplace=True)\n",
    "df_vl_uam.reset_index(drop=True, inplace=True)"
   ]
  },
  {
   "cell_type": "code",
   "execution_count": 6,
   "metadata": {},
   "outputs": [],
   "source": [
    "def get_url(view_data):\n",
    "    view_data = eval(view_data)\n",
    "    if view_data != \"\":\n",
    "        url = view_data['url']\n",
    "    else:\n",
    "        url = None\n",
    "        \n",
    "    return url\n",
    "\n",
    "def parse_url(url_suffix):\n",
    "    # print(url_suffix)\n",
    "    url_parts = url_suffix.split('/')\n",
    "\n",
    "    try:\n",
    "        url_suffix = url_parts[0]\n",
    "    except IndexError: \n",
    "        url_suffix = 'vention.io'\n",
    "        \n",
    "    return url_suffix\n",
    "\n",
    "\n",
    "def parse_url2(url_suffix2):\n",
    "    if url_suffix2.startswith(('de?', '?')):\n",
    "        url_suffix3 = 'probable-source-google-campaign'\n",
    "    else: \n",
    "        url_parts = url_suffix2.split('?')\n",
    "        url_suffix3 = url_parts[0]\n",
    "        \n",
    "    return url_suffix3"
   ]
  },
  {
   "cell_type": "code",
   "execution_count": 7,
   "metadata": {},
   "outputs": [
    {
     "name": "stderr",
     "output_type": "stream",
     "text": [
      "C:\\Users\\marie-eve.malette_ve\\AppData\\Local\\Temp\\ipykernel_18824\\3194990985.py:6: FutureWarning: The default value of regex will change from True to False in a future version.\n",
      "  df_vl_uam['url_suffix'] = df_vl_uam['url'].str.replace('https://vention.io/', '')\n"
     ]
    }
   ],
   "source": [
    "# extract the url from view_data\n",
    "df_vl_uam['url'] = df_vl_uam['view_data'].apply(lambda x: get_url(x))\n",
    "\n",
    "# extract the suffix (what comes after vention.io/)\n",
    "df_vl_uam['url_suffix'] = ''\n",
    "df_vl_uam['url_suffix'] = df_vl_uam['url'].str.replace('https://vention.io/', '')\n",
    "df_vl_uam['url_suffix'] = df_vl_uam['url_suffix'].astype(str)\n",
    "\n",
    "# parsing the url_suffix even further by keeping only what comes before the first '/'\n",
    "df_vl_uam['url_suffix2'] = None\n",
    "df_vl_uam['url_suffix2'] = df_vl_uam['url_suffix'].apply(lambda x: parse_url(x))\n",
    "# after this, the number of categories is still very high: above 113K"
   ]
  },
  {
   "cell_type": "code",
   "execution_count": null,
   "metadata": {},
   "outputs": [],
   "source": [
    "# parsing even more to reduce the number of categorie to 6-700 \n",
    "df_vl_uam['url_suffix3'] = None\n",
    "df_vl_uam['url_suffix3'] = df_vl_uam['url_suffix2'].apply(lambda x: parse_url2(x))\n",
    "url_suffix3_vc = df_vl_uam['url_suffix3'].value_counts()\n",
    "\n",
    "# replace url that are infrequent with the word infrequent\n",
    "url_suffix3_vc = pd.DataFrame({'url_suffix': url_suffix3_vc.index, 'count': list(url_suffix3_vc)})\n",
    "url_renames = list(url_suffix3_vc.loc[url_suffix3_vc['count'] < 10, 'url_suffix'].unique())\n",
    "df_vl_uam.loc[df_vl_uam['url_suffix3'].isin(url_renames), 'url_suffix3'] = 'infrequent'\n",
    "\n",
    "# replacing empty strings with vention.io, url with url_suffix3\n",
    "df_vl_uam.loc[df_vl_uam['url_suffix3'] == '', 'url_suffix3'] = 'vention.io'\n",
    "df_vl_uam['url'] = df_vl_uam['url_suffix3']"
   ]
  },
  {
   "cell_type": "code",
   "execution_count": null,
   "metadata": {},
   "outputs": [],
   "source": [
    "# cleanup and renaming\n",
    "df_vl_uam_final = df_vl_uam.drop(['view_data',  'url_suffix', 'url_suffix2', 'url_suffix3'], axis=1)\n",
    "df_vl_uam_final.rename(columns={'created_at': 'vl_created_at'}, inplace=True)\n"
   ]
  },
  {
   "cell_type": "code",
   "execution_count": null,
   "metadata": {},
   "outputs": [],
   "source": [
    "df_vl_uam_final.to_csv('tmp/df_view_logs_uam_final.csv')"
   ]
  }
 ],
 "metadata": {
  "kernelspec": {
   "display_name": "base",
   "language": "python",
   "name": "python3"
  },
  "language_info": {
   "codemirror_mode": {
    "name": "ipython",
    "version": 3
   },
   "file_extension": ".py",
   "mimetype": "text/x-python",
   "name": "python",
   "nbconvert_exporter": "python",
   "pygments_lexer": "ipython3",
   "version": "3.9.13"
  },
  "orig_nbformat": 4
 },
 "nbformat": 4,
 "nbformat_minor": 2
}
