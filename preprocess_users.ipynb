{
 "cells": [
  {
   "cell_type": "markdown",
   "metadata": {},
   "source": [
    "# PQL Score - User Preprocessing\n",
    "This code is used as the preprocessing pipeline for users: \n",
    "* users are categorized as generic or commercial \n",
    "* only users that are users first are kept (inbound) "
   ]
  },
  {
   "cell_type": "code",
   "execution_count": null,
   "metadata": {},
   "outputs": [],
   "source": [
    "import os\n",
    "import pandas as pd\n",
    "import numpy as np"
   ]
  },
  {
   "cell_type": "code",
   "execution_count": null,
   "metadata": {},
   "outputs": [
    {
     "name": "stderr",
     "output_type": "stream",
     "text": [
      "C:\\Users\\marie-eve.malette_ve\\AppData\\Local\\Temp\\ipykernel_11784\\3789995714.py:5: DtypeWarning: Columns (12) have mixed types. Specify dtype option on import or set low_memory=False.\n",
      "  df_u = pd.read_csv(u_path)\n",
      "C:\\Users\\marie-eve.malette_ve\\AppData\\Local\\Temp\\ipykernel_11784\\3789995714.py:6: DtypeWarning: Columns (16,28,29,38,39) have mixed types. Specify dtype option on import or set low_memory=False.\n",
      "  df_c = pd.read_csv(c_path)\n"
     ]
    }
   ],
   "source": [
    "u_path = os.path.join(\"..\",\"data\", \"raw\", \"rails\",\"vention_rails_users.csv\")\n",
    "c_path = os.path.join(\"..\",\"data\", \"raw\",\"salesforce\",\"vention_salesforce_contact.csv\")\n",
    "gd_path = os.path.join(\"..\",\"data\", \"transformed\",\"vention_transformed_salesforce_generic_domains.csv\")\n",
    "\n",
    "df_u = pd.read_csv(u_path)\n",
    "df_c = pd.read_csv(c_path) \n",
    "df_gd = pd.read_csv(gd_path) "
   ]
  },
  {
   "cell_type": "code",
   "execution_count": null,
   "metadata": {},
   "outputs": [],
   "source": [
    "# clean up and formatting\n",
    "df_u = df_u[['id', 'email', 'created_at', 'activated_datetime']]\n",
    "df_u['created_at'] = pd.to_datetime(df_u['created_at'], format='%Y-%m-%d %H:%M:%S')\n",
    "df_u['activated_datetime'] = pd.to_datetime(df_u['activated_datetime'], format='%Y-%m-%d %H:%M:%S')\n",
    "df_u['id'] = df_u['id'].astype(str)\n",
    "\n",
    "# keep only 2022 activation period\n",
    "df_u = df_u.loc[df_u['created_at'] >= pd.to_datetime('2022-01-01')]\n",
    "df_u = df_u.loc[df_u['activated_datetime'] <= pd.to_datetime('2022-12-31')]\n",
    "\n",
    "# add generic and commercial flags\n",
    "generic_domains_list = df_gd['split_part'].tolist()\n",
    "df_u['domain'] = df_u['email'].str.split('@').str[1]\n",
    "df_u['generic'] = df_u['domain'].apply(lambda domain: 1 if domain in generic_domains_list else 0)\n",
    "df_u['domain'] = df_u['email'].str.split('@').str[1]\n",
    "df_u['commercial'] = df_u['domain'].apply(lambda domain: 0 if domain in generic_domains_list else 1)"
   ]
  },
  {
   "cell_type": "code",
   "execution_count": null,
   "metadata": {},
   "outputs": [],
   "source": [
    "# remove null emails and duplicates\n",
    "df_c['createddate'] = pd.to_datetime(df_c['createddate'], format='%Y-%m-%d %H:%M:%S')\n",
    "df_c = df_c.loc[~df_c['email'].isnull()]\n",
    "df_c.drop_duplicates('email', keep='first', inplace=True)"
   ]
  },
  {
   "cell_type": "code",
   "execution_count": null,
   "metadata": {},
   "outputs": [
    {
     "name": "stderr",
     "output_type": "stream",
     "text": [
      "C:\\Users\\marie-eve.malette_ve\\AppData\\Local\\Temp\\ipykernel_11784\\1405637214.py:14: SettingWithCopyWarning: \n",
      "A value is trying to be set on a copy of a slice from a DataFrame\n",
      "\n",
      "See the caveats in the documentation: https://pandas.pydata.org/pandas-docs/stable/user_guide/indexing.html#returning-a-view-versus-a-copy\n",
      "  df_u_c_final.rename(columns={'id_x': 'user_id',\n"
     ]
    }
   ],
   "source": [
    "# merge users and contacts to retrieve sl success \n",
    "df_u_c = pd.merge(df_u, df_c, left_on='email', right_on='email', how='left')\n",
    "df_u_c['sl_success'] = [1 if s else 0 for s in df_u_c['salesloft_success__c']]\n",
    "\n",
    "# keep only inbound\n",
    "df_u_c_ = df_u_c.loc[df_u_c['created_at'] < df_u_c['createddate']]\n",
    "\n",
    "# remove vention users\n",
    "df_u_c_ = df_u_c_.loc[~df_u_c_['domain'].str.contains('vention')]\n",
    "\n",
    "# keep columns to a minimum\n",
    "df_u_c_final = df_u_c_[['id_x', 'activated_datetime','commercial',  'sl_success']]\n",
    "\n",
    "df_u_c_final.rename(columns={'id_x': 'user_id',  \n",
    "                    'activated_datetime': 'user_activated_at'}, inplace=True)"
   ]
  },
  {
   "cell_type": "code",
   "execution_count": null,
   "metadata": {},
   "outputs": [],
   "source": [
    "df_u_c_final.to_csv('tmp/df_users_contacts_final.csv')"
   ]
  }
 ],
 "metadata": {
  "kernelspec": {
   "display_name": "base",
   "language": "python",
   "name": "python3"
  },
  "language_info": {
   "codemirror_mode": {
    "name": "ipython",
    "version": 3
   },
   "file_extension": ".py",
   "mimetype": "text/x-python",
   "name": "python",
   "nbconvert_exporter": "python",
   "pygments_lexer": "ipython3",
   "version": "3.9.13"
  },
  "orig_nbformat": 4
 },
 "nbformat": 4,
 "nbformat_minor": 2
}
